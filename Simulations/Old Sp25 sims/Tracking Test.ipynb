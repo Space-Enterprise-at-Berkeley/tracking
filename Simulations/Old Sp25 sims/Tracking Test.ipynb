{
 "cells": [
  {
   "cell_type": "code",
   "execution_count": 2,
   "metadata": {},
   "outputs": [],
   "source": [
    "import numpy as np\n",
    "from bisect import bisect"
   ]
  },
  {
   "cell_type": "code",
   "execution_count": 16,
   "metadata": {},
   "outputs": [
    {
     "data": {
      "text/plain": [
       "[0, 1, 2, 3, 4, 5, 6, 7, 8, 9, 10, 11, 15, 16, 17, 18, 46, 47]"
      ]
     },
     "execution_count": 16,
     "metadata": {},
     "output_type": "execute_result"
    }
   ],
   "source": [
    "raw_csv = open(\"HAD sim.csv\")\n",
    "raw_arr = raw_csv.readlines()\n",
    "raw_csv.close()\n",
    "\n",
    "sim_data = np.genfromtxt([line[:-1] for line in raw_arr[:-1] if line[0] != '#'], delimiter=',')\n",
    "headers = raw_arr[6].split(',')\n",
    "\n",
    "indices = [headers.index(i) for i in ('# Time (s)',\n",
    " 'Altitude (m)', \n",
    " 'Vertical velocity (m/s)',\n",
    " 'Vertical acceleration (m/sÂ²)',\n",
    " 'Total velocity (m/s)',\n",
    " 'Total acceleration (m/sÂ²)',\n",
    " 'Position East of launch (m)',\n",
    " 'Position North of launch (m)',\n",
    " 'Lateral distance (m)',\n",
    " 'Lateral direction (Â°)',\n",
    " 'Lateral velocity (m/s)',\n",
    " 'Lateral acceleration (m/sÂ²)',\n",
    " 'Angle of attack (Â°)',\n",
    " 'Roll rate (Â°/s)',\n",
    " 'Pitch rate (Â°/s)',\n",
    " 'Yaw rate (Â°/s)',\n",
    " 'Vertical orientation (zenith) (Â°)',\n",
    " 'Lateral orientation (azimuth) (Â°)',)]\n",
    "\n",
    "np.savetxt(\"Clean sim.csv\", sim_data[:,indices], delimiter=',')"
   ]
  },
  {
   "cell_type": "code",
   "execution_count": 36,
   "metadata": {},
   "outputs": [
    {
     "data": {
      "text/plain": [
       "(np.float64(0.961), array([4.50000e-02, 1.18700e-05, 1.09978e+02]))"
      ]
     },
     "execution_count": 36,
     "metadata": {},
     "output_type": "execute_result"
    }
   ],
   "source": [
    "def getGPSPacket(time, latency, delay):\n",
    "    i = bisect(sim_data[:,0], time - latency)-1\n",
    "    \n",
    "    return sim_data[i,0]+delay, sim_data[i,(6,7,1)]\n",
    "\n",
    "getGPSPacket(1,0,0)\n"
   ]
  }
 ],
 "metadata": {
  "kernelspec": {
   "display_name": "Python 3",
   "language": "python",
   "name": "python3"
  },
  "language_info": {
   "codemirror_mode": {
    "name": "ipython",
    "version": 3
   },
   "file_extension": ".py",
   "mimetype": "text/x-python",
   "name": "python",
   "nbconvert_exporter": "python",
   "pygments_lexer": "ipython3",
   "version": "3.13.0"
  }
 },
 "nbformat": 4,
 "nbformat_minor": 2
}
